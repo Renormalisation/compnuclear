{
 "cells": [
  {
   "cell_type": "code",
   "execution_count": 4,
   "id": "7db023f9",
   "metadata": {},
   "outputs": [],
   "source": [
    "# Double integration\n",
    "\n",
    "import special_functions as sf\n",
    "import numpy as np\n",
    "import math as mt"
   ]
  },
  {
   "cell_type": "code",
   "execution_count": 14,
   "id": "8090e212",
   "metadata": {},
   "outputs": [
    {
     "name": "stdout",
     "output_type": "stream",
     "text": [
      "(-0.0006520506503062663+0j)\n"
     ]
    }
   ],
   "source": [
    "#Integral for quadruple moment Q6.2\n",
    "thetas = np.linspace(0,mt.pi,100)\n",
    "phis = np.linspace(0,2*mt.pi,100)\n",
    "h_thetas = mt.pi/100\n",
    "h_phis = mt.pi/50\n",
    "theta, phi = np.meshgrid(thetas, phis)\n",
    "\n",
    "a = sf.Ylm(2,0,theta, phi)*np.sin(theta)\n",
    "I=0\n",
    "ct=0\n",
    "for i in range(len(a)-1):\n",
    "    I = I + sf.simpI(a[ct],h_thetas)*h_phis\n",
    "    ct+=1\n",
    "print(I)\n",
    "    "
   ]
  }
 ],
 "metadata": {
  "kernelspec": {
   "display_name": "Python 3 (ipykernel)",
   "language": "python",
   "name": "python3"
  },
  "language_info": {
   "codemirror_mode": {
    "name": "ipython",
    "version": 3
   },
   "file_extension": ".py",
   "mimetype": "text/x-python",
   "name": "python",
   "nbconvert_exporter": "python",
   "pygments_lexer": "ipython3",
   "version": "3.8.10"
  }
 },
 "nbformat": 4,
 "nbformat_minor": 5
}
