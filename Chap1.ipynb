{
 "cells": [
  {
   "cell_type": "code",
   "execution_count": 9,
   "id": "e79efc03",
   "metadata": {},
   "outputs": [],
   "source": [
    "import special_functions as sf\n",
    "import numpy as np\n",
    "import math as mt\n",
    "\n",
    "def norm(n):\n",
    "    return (1/mt.sqrt((mt.sqrt(mt.pi))*(pow(2,n))*sf.fact(n)))\n",
    "\n",
    "#To check the normalisation of wf, give n and m to perform the integral\n",
    "\n",
    "def wavef(n,x):\n",
    "    hermite_n = np.array(sf.hermitefn(n,x))\n",
    "    factor = np.exp(-x*x/2)\n",
    "    psi_n = norm(n) * hermite_n * factor\n",
    "    psi_n = np.array(psi_n)\n",
    "    return psi_n\n",
    "\n",
    "#x = sf.x_list(-100,100,10000)\n",
    "#h=0.02\n",
    "#x=np.array(x)\n",
    "#n=int(input('n:'))\n",
    "#m=int(input('m:'))\n",
    "\n",
    "#round(sf.simpI(wavef(n,x)*wavef(m,x),0.02))"
   ]
  },
  {
   "cell_type": "code",
   "execution_count": 10,
   "id": "ac0b3a62",
   "metadata": {},
   "outputs": [
    {
     "name": "stdout",
     "output_type": "stream",
     "text": [
      "0.25\n",
      "0.75\n",
      "1.25\n",
      "1.75\n",
      "2.25\n",
      "2.75\n",
      "3.25\n"
     ]
    }
   ],
   "source": [
    "#Expectation Value of the potentioal\n",
    "\n",
    "x = np.array(sf.x_list(-100,100,10000))\n",
    "h=0.02\n",
    "v = x*x/2\n",
    "for i in range(7):\n",
    "    integrand = wavef(i,x)*v*wavef(i,x)\n",
    "    integral= sf.simpI(integrand, h)\n",
    "    print(round(integral,2))\n",
    "\n"
   ]
  },
  {
   "cell_type": "code",
   "execution_count": 12,
   "id": "3de104ae",
   "metadata": {},
   "outputs": [
    {
     "name": "stdout",
     "output_type": "stream",
     "text": [
      "0.25\n",
      "0.75\n",
      "1.25\n",
      "1.75\n",
      "2.25\n",
      "2.74\n",
      "3.24\n"
     ]
    }
   ],
   "source": [
    "#Expectation value of kinetic energy\n",
    "x = np.array(sf.x_list(-100,100,10000))\n",
    "h=0.02\n",
    "for i in range(7):\n",
    "    integrand = (-0.5)*sf.dderivative(wavef(i,x),x)*wavef(i,x)\n",
    "    integral = sf.simpI(integrand, h)\n",
    "    print(round(integral,2))"
   ]
  },
  {
   "cell_type": "code",
   "execution_count": 41,
   "id": "6a869390",
   "metadata": {},
   "outputs": [
    {
     "name": "stdout",
     "output_type": "stream",
     "text": [
      "0.25 -0.01 -0.35 0.01 -0.0 0.0 \n",
      "\n",
      "0.01 0.75 -0.03 -0.61 0.02 -0.0 \n",
      "\n",
      "-0.35 0.03 1.25 -0.06 -0.86 0.03 \n",
      "\n",
      "-0.01 -0.61 0.06 1.75 -0.08 -1.12 \n",
      "\n",
      "-0.0 -0.02 -0.86 0.08 2.25 -0.12 \n",
      "\n",
      "-0.0 -0.0 -0.03 -1.12 0.12 2.74 \n",
      "\n"
     ]
    }
   ],
   "source": [
    "# Table for potential energy\n",
    "\n",
    "x = np.array(sf.x_list(-100,100,10000))\n",
    "h=0.02\n",
    "\n",
    "for i in range(6):\n",
    "    \n",
    "    for j in range(6):\n",
    "        \n",
    "        integrand = (-0.5)*sf.dderivative(wavef(i,x),x)*wavef(j,x)\n",
    "        integral = round(sf.simpI(integrand, h),2)\n",
    "        print(integral, end = ' ')\n",
    "    print('\\n')\n",
    "\n"
   ]
  },
  {
   "cell_type": "code",
   "execution_count": 56,
   "id": "398b7016",
   "metadata": {},
   "outputs": [
    {
     "name": "stdout",
     "output_type": "stream",
     "text": [
      "-7.9806694501491 -0.09598536929148767 -0.047992684645743515 -0.019592931461396425 -0.00692714734983848 \n",
      "\n",
      "-0.09598536929148749 -8.048541355669796 -0.1696797638017662 -0.09698006289773535 -0.04408409578814148 \n",
      "\n",
      "-0.047992684645743515 -0.1696797638017663 -8.133381237570676 -0.25630445194401746 -0.15919256812384472 \n",
      "\n",
      "-0.01959293146139628 -0.09698006289773516 -0.2563044519440176 -8.238017091915108 -0.3609449824398649 \n",
      "\n",
      "-0.006927147349838479 -0.044084095788141604 -0.1591925681238448 -0.360944982439865 -8.36563041427436 \n",
      "\n"
     ]
    }
   ],
   "source": [
    "#Vood Saxon Potential, average for potential : forget 4pir^2 terms and stuff, just consider it 1 dimensional cartesian\n",
    "\n",
    "V0 = -55\n",
    "a = 0.5\n",
    "R = 5\n",
    "A=200\n",
    "\n",
    "r = sf.x_list(-100,100,10000)\n",
    "h = 0.02\n",
    "\n",
    "V = (V0*pow(A,1/3))/41*(1+(np.exp(r-R)/a))\n",
    "\n",
    "for i in range(5):\n",
    "    for j in range(5):\n",
    "        integrand = V*wavef(i,r)*wavef(j,r)\n",
    "        integral = sf.simpI(integrand,h)\n",
    "        print(integral, end = \" \")\n",
    "    print('\\n')\n",
    "\n",
    "        "
   ]
  },
  {
   "cell_type": "code",
   "execution_count": null,
   "id": "db5c4a61",
   "metadata": {},
   "outputs": [],
   "source": []
  }
 ],
 "metadata": {
  "kernelspec": {
   "display_name": "Python 3 (ipykernel)",
   "language": "python",
   "name": "python3"
  },
  "language_info": {
   "codemirror_mode": {
    "name": "ipython",
    "version": 3
   },
   "file_extension": ".py",
   "mimetype": "text/x-python",
   "name": "python",
   "nbconvert_exporter": "python",
   "pygments_lexer": "ipython3",
   "version": "3.8.10"
  }
 },
 "nbformat": 4,
 "nbformat_minor": 5
}
